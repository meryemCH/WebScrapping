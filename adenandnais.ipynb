{
  "nbformat": 4,
  "nbformat_minor": 0,
  "metadata": {
    "colab": {
      "name": "adenandnais.ipynb",
      "provenance": [],
      "authorship_tag": "ABX9TyO+MbfqinTWyQUA7Ld6Jhw4",
      "include_colab_link": true
    },
    "kernelspec": {
      "name": "python3",
      "display_name": "Python 3"
    },
    "language_info": {
      "name": "python"
    }
  },
  "cells": [
    {
      "cell_type": "markdown",
      "metadata": {
        "id": "view-in-github",
        "colab_type": "text"
      },
      "source": [
        "<a href=\"https://colab.research.google.com/github/meryemCH/formation-git/blob/main/adenandnais.ipynb\" target=\"_parent\"><img src=\"https://colab.research.google.com/assets/colab-badge.svg\" alt=\"Open In Colab\"/></a>"
      ]
    },
    {
      "cell_type": "code",
      "metadata": {
        "colab": {
          "base_uri": "https://localhost:8080/"
        },
        "id": "8j2hcPg1iP7q",
        "outputId": "4a734206-a159-4d6b-bc95-8efca6fb1ec2"
      },
      "source": [
        "pip install beautifulSoup4"
      ],
      "execution_count": 3,
      "outputs": [
        {
          "output_type": "stream",
          "name": "stdout",
          "text": [
            "Requirement already satisfied: beautifulSoup4 in /usr/local/lib/python3.7/dist-packages (4.6.3)\n"
          ]
        }
      ]
    },
    {
      "cell_type": "code",
      "metadata": {
        "id": "KsnAuA28iRS_"
      },
      "source": [
        "pip install requests"
      ],
      "execution_count": null,
      "outputs": []
    },
    {
      "cell_type": "code",
      "metadata": {
        "id": "q_KPnz0LH3hs"
      },
      "source": [
        "#import packages\n",
        "import requests\n",
        "from bs4 import BeautifulSoup\n",
        "import pandas as pd"
      ],
      "execution_count": 5,
      "outputs": []
    },
    {
      "cell_type": "code",
      "metadata": {
        "colab": {
          "base_uri": "https://localhost:8080/"
        },
        "id": "2YFnMJA4jdsE",
        "outputId": "a9f1fa93-c402-4628-ef98-0d77526494eb"
      },
      "source": [
        "pip install lxml"
      ],
      "execution_count": 6,
      "outputs": [
        {
          "output_type": "stream",
          "name": "stdout",
          "text": [
            "Requirement already satisfied: lxml in /usr/local/lib/python3.7/dist-packages (4.2.6)\n"
          ]
        }
      ]
    },
    {
      "cell_type": "code",
      "metadata": {
        "id": "7482SkxbjT3W"
      },
      "source": [
        "#saisir l'url\n",
        "url = 'https://www.adenandanais.fr/maxi-langes-et-couvertures-bebe/maxi-langes/mousseline-de-coton'"
      ],
      "execution_count": 7,
      "outputs": []
    },
    {
      "cell_type": "code",
      "metadata": {
        "id": "_LkSk-COVYJ1"
      },
      "source": [
        "products = []\n",
        "prices = []"
      ],
      "execution_count": 47,
      "outputs": []
    },
    {
      "cell_type": "code",
      "metadata": {
        "id": "bMzcNL0aj8aa"
      },
      "source": [
        "result=requests.get(url)\n"
      ],
      "execution_count": 9,
      "outputs": []
    },
    {
      "cell_type": "code",
      "metadata": {
        "id": "BbWZ4uIPk58I"
      },
      "source": [
        "src=result.content\n",
        "#print(src)"
      ],
      "execution_count": 10,
      "outputs": []
    },
    {
      "cell_type": "code",
      "metadata": {
        "id": "_CdKUsM8jdcZ"
      },
      "source": [
        "soup = BeautifulSoup(src,\"lxml\")\n",
        "print(soup)"
      ],
      "execution_count": null,
      "outputs": []
    },
    {
      "cell_type": "code",
      "metadata": {
        "id": "X0sHfEtYiKaf"
      },
      "source": [
        "#product_name\n",
        "products = soup.findAll(\"a\",{\"class\":\"product-item-link\"})\n",
        "print(products)"
      ],
      "execution_count": null,
      "outputs": []
    },
    {
      "cell_type": "code",
      "metadata": {
        "id": "JPPTeyCsoG_o"
      },
      "source": [
        "prices = soup.find_all(\"span\",{\"class\":\"price\"})\n",
        "print(prices)"
      ],
      "execution_count": null,
      "outputs": []
    },
    {
      "cell_type": "code",
      "metadata": {
        "id": "hMMCW8MtmYnw"
      },
      "source": [
        "#imgs = soup.find_all(\"a\",{\"class\":\"product photo product-item-photo\"})\n",
        "#print(imgs)"
      ],
      "execution_count": 25,
      "outputs": []
    },
    {
      "cell_type": "code",
      "metadata": {
        "id": "217CWWd9Sx97"
      },
      "source": [
        "#step Loop\n",
        "for i in range(len(products)):\n",
        " products.append(products[i].text)\n",
        " prices.append(prices[i].text)\n",
        " print(products,prices)\n"
      ],
      "execution_count": null,
      "outputs": []
    },
    {
      "cell_type": "code",
      "metadata": {
        "id": "EjpFiWFBheN-"
      },
      "source": [
        "#csv\n",
        "import csv \n",
        "from itertools import zip_longest"
      ],
      "execution_count": 83,
      "outputs": []
    },
    {
      "cell_type": "code",
      "metadata": {
        "id": "JQF_OccqmRJ6"
      },
      "source": [
        "filelist= [products,prices]\n",
        "exported = zip_longest(*filelist)"
      ],
      "execution_count": 84,
      "outputs": []
    },
    {
      "cell_type": "code",
      "metadata": {
        "id": "ZNebdfPKkdLY"
      },
      "source": [
        "#create csv\n",
        "with open('/content/sample_data/adenandnais.csv', 'w') as csvfile:\n",
        "  wr = csv.writer(csvfile)\n",
        "  wr.writerow(['products', 'prices'])\n",
        "  wr.writerows(exported)"
      ],
      "execution_count": 85,
      "outputs": []
    }
  ]
}