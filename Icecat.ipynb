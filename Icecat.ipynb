{
  "nbformat": 4,
  "nbformat_minor": 0,
  "metadata": {
    "colab": {
      "name": "Icecat",
      "provenance": [],
      "authorship_tag": "ABX9TyMDn09ntieN/Hdcoqgy5p0t",
      "include_colab_link": true
    },
    "kernelspec": {
      "name": "python3",
      "display_name": "Python 3"
    },
    "language_info": {
      "name": "python"
    }
  },
  "cells": [
    {
      "cell_type": "markdown",
      "metadata": {
        "id": "view-in-github",
        "colab_type": "text"
      },
      "source": [
        "<a href=\"https://colab.research.google.com/github/meryemCH/formation-git/blob/main/Icecat.ipynb\" target=\"_parent\"><img src=\"https://colab.research.google.com/assets/colab-badge.svg\" alt=\"Open In Colab\"/></a>"
      ]
    },
    {
      "cell_type": "code",
      "metadata": {
        "colab": {
          "base_uri": "https://localhost:8080/"
        },
        "id": "8j2hcPg1iP7q",
        "outputId": "71f6e15c-ebae-49fc-f867-1e0977ae3712"
      },
      "source": [
        "pip install beautifulSoup4"
      ],
      "execution_count": 17,
      "outputs": [
        {
          "output_type": "stream",
          "name": "stdout",
          "text": [
            "Requirement already satisfied: beautifulSoup4 in /usr/local/lib/python3.7/dist-packages (4.6.3)\n"
          ]
        }
      ]
    },
    {
      "cell_type": "code",
      "metadata": {
        "colab": {
          "base_uri": "https://localhost:8080/"
        },
        "id": "1HtcSlObY2YI",
        "outputId": "c6831182-08b0-45aa-ce6e-3fa7ada527e2"
      },
      "source": [
        "pip install requests"
      ],
      "execution_count": 18,
      "outputs": [
        {
          "output_type": "stream",
          "name": "stdout",
          "text": [
            "Requirement already satisfied: requests in /usr/local/lib/python3.7/dist-packages (2.23.0)\n",
            "Requirement already satisfied: certifi>=2017.4.17 in /usr/local/lib/python3.7/dist-packages (from requests) (2021.5.30)\n",
            "Requirement already satisfied: chardet<4,>=3.0.2 in /usr/local/lib/python3.7/dist-packages (from requests) (3.0.4)\n",
            "Requirement already satisfied: idna<3,>=2.5 in /usr/local/lib/python3.7/dist-packages (from requests) (2.10)\n",
            "Requirement already satisfied: urllib3!=1.25.0,!=1.25.1,<1.26,>=1.21.1 in /usr/local/lib/python3.7/dist-packages (from requests) (1.24.3)\n"
          ]
        }
      ]
    },
    {
      "cell_type": "code",
      "metadata": {
        "id": "Iycm7Y6KY8ma"
      },
      "source": [
        "#import packages\n",
        "import requests\n",
        "from bs4 import BeautifulSoup\n",
        "import pandas as pd"
      ],
      "execution_count": 19,
      "outputs": []
    },
    {
      "cell_type": "code",
      "metadata": {
        "colab": {
          "base_uri": "https://localhost:8080/"
        },
        "id": "V-tSE9KYZAHl",
        "outputId": "1dd9bd21-738f-4468-9952-56592ea9a9c5"
      },
      "source": [
        "pip install lxml"
      ],
      "execution_count": 20,
      "outputs": [
        {
          "output_type": "stream",
          "name": "stdout",
          "text": [
            "Requirement already satisfied: lxml in /usr/local/lib/python3.7/dist-packages (4.2.6)\n"
          ]
        }
      ]
    },
    {
      "cell_type": "code",
      "metadata": {
        "id": "sPMz4R9LZE-y"
      },
      "source": [
        "#saisir l'url\n",
        "url = 'https://icecat.biz/search/educational-incentives'"
      ],
      "execution_count": 21,
      "outputs": []
    },
    {
      "cell_type": "code",
      "metadata": {
        "id": "s3H3PBluZNmY"
      },
      "source": [
        "products = []\n",
        "codes = []"
      ],
      "execution_count": 22,
      "outputs": []
    },
    {
      "cell_type": "code",
      "metadata": {
        "id": "gEBdlbkeZUd1"
      },
      "source": [
        "result=requests.get(url)"
      ],
      "execution_count": 23,
      "outputs": []
    },
    {
      "cell_type": "code",
      "metadata": {
        "id": "5AYCDjJWZXto"
      },
      "source": [
        "src=result.content\n",
        "#print(src)"
      ],
      "execution_count": 24,
      "outputs": []
    },
    {
      "cell_type": "code",
      "metadata": {
        "colab": {
          "base_uri": "https://localhost:8080/"
        },
        "id": "fv2u2dtJZdZV",
        "outputId": "e5b84cfb-bae7-4258-b088-25b826dc7d45"
      },
      "source": [
        "soup = BeautifulSoup(src,\"lxml\")\n",
        "print(soup)"
      ],
      "execution_count": 25,
      "outputs": [
        {
          "output_type": "stream",
          "name": "stdout",
          "text": [
            "<!DOCTYPE html>\n",
            "<html>\n",
            "<head>\n",
            "<style>.async-hide {\n",
            "        opacity: 0 !important\n",
            "    }</style>\n",
            "<script>(function (a, s, y, n, c, h, i, d, e) {\n",
            "        s.className += ' ' + y;\n",
            "        h.start = 1 * new Date;\n",
            "        h.end = i = function () {\n",
            "            s.className = s.className.replace(RegExp(' ?' + y), '')\n",
            "        };\n",
            "        (a[n] = a[n] || []).hide = h;\n",
            "        setTimeout(function () {\n",
            "            i();\n",
            "            h.end = null\n",
            "        }, c);\n",
            "        h.timeout = c;\n",
            "    })(window, document.documentElement, 'async-hide', 'dataLayer', 4000,\n",
            "        {'GTM-5VX368V': true});\n",
            "</script>\n",
            "<meta content=\"https://icecat.biz/static/images/icecat-large.png\" property=\"og:image\"/>\n",
            "<meta content=\"Icecat: open feed with product information, data-sheets for ecommerce.\" property=\"og:title\"/>\n",
            "<meta content=\"https://icecat.biz/search/educational-incentives\" property=\"og:url\"/>\n",
            "<meta content=\"https://icecat.biz/static/images/icecat-large.png\" name=\"twitter:image\"/>\n",
            "<meta content=\"Icecat: open feed with product information, data-sheets for ecommerce.\" name=\"twitter:title\"/>\n",
            "<meta content=\"summary\" name=\"twitter:card\"/>\n",
            "<meta content=\"Icecat: syndicator of product information via global open catalog with more than 11323577 data-sheets  &amp;amp; 30525 brands – register (free)\" property=\"og:description\"/>\n",
            "<meta content=\"en\" name=\"Content-Language\"/>\n",
            "<link href=\"/dist/app.css?20211019T141411\" rel=\"stylesheet\"/>\n",
            "<script src=\"/static/js/tagManager.js\"></script>\n",
            "<script src=\"/static/js/ga.js\"></script> <meta content=\"text/html; charset=utf-8\" http-equiv=\"Content-Type\"/>\n",
            "<meta content=\"width=device-width, initial-scale=1.0, maximum-scale=1.0, user-scalable=no, shrink-to-fit=no\" name=\"viewport\"/>\n",
            "<meta content=\"telephone=no\" name=\"format-detection\"/>\n",
            "<link href=\"/en/search/educational-incentives\" hreflang=\"en\" rel=\"alternate\"/>\n",
            "<link href=\"/de/search/educational-incentives\" hreflang=\"de\" rel=\"alternate\"/>\n",
            "<link href=\"/fr/search/educational-incentives\" hreflang=\"fr\" rel=\"alternate\"/>\n",
            "<link href=\"/es/search/educational-incentives\" hreflang=\"es\" rel=\"alternate\"/>\n",
            "<link href=\"/ca/search/educational-incentives\" hreflang=\"ca\" rel=\"alternate\"/>\n",
            "<link href=\"/dk/search/educational-incentives\" hreflang=\"da\" rel=\"alternate\"/>\n",
            "<link href=\"/de-at/search/educational-incentives\" hreflang=\"de\" rel=\"alternate\"/>\n",
            "<link href=\"/de-be/search/educational-incentives\" hreflang=\"de\" rel=\"alternate\"/>\n",
            "<link href=\"/de-ch/search/educational-incentives\" hreflang=\"de\" rel=\"alternate\"/>\n",
            "<link href=\"/en-au/search/educational-incentives\" hreflang=\"en-au\" rel=\"alternate\"/>\n",
            "<link href=\"/en-in/search/educational-incentives\" hreflang=\"en-in\" rel=\"alternate\"/>\n",
            "<link href=\"/en-sg/search/educational-incentives\" hreflang=\"en-sg\" rel=\"alternate\"/>\n",
            "<link href=\"/us/search/educational-incentives\" hreflang=\"en-us\" rel=\"alternate\"/>\n",
            "<link href=\"/es-ar/search/educational-incentives\" hreflang=\"es-ar\" rel=\"alternate\"/>\n",
            "<link href=\"/es-cl/search/educational-incentives\" hreflang=\"es-cl\" rel=\"alternate\"/>\n",
            "<link href=\"/es-co/search/educational-incentives\" hreflang=\"es-co\" rel=\"alternate\"/>\n",
            "<link href=\"/es-mx/search/educational-incentives\" hreflang=\"es-mx\" rel=\"alternate\"/>\n",
            "<link href=\"/es-pe/search/educational-incentives\" hreflang=\"es-pe\" rel=\"alternate\"/>\n",
            "<link href=\"/et/search/educational-incentives\" hreflang=\"et\" rel=\"alternate\"/>\n",
            "<link href=\"/fr-be/search/educational-incentives\" hreflang=\"fr\" rel=\"alternate\"/>\n",
            "<link href=\"/fr-ca/search/educational-incentives\" hreflang=\"fr-ca\" rel=\"alternate\"/>\n",
            "<link href=\"/fr-ch/search/educational-incentives\" hreflang=\"fr\" rel=\"alternate\"/>\n",
            "<link href=\"/hr/search/educational-incentives\" hreflang=\"hr\" rel=\"alternate\"/>\n",
            "<link href=\"/id/search/educational-incentives\" hreflang=\"id\" rel=\"alternate\"/>\n",
            "<link href=\"/it/search/educational-incentives\" hreflang=\"it\" rel=\"alternate\"/>\n",
            "<link href=\"/lv/search/educational-incentives\" hreflang=\"lv\" rel=\"alternate\"/>\n",
            "<link href=\"/lt/search/educational-incentives\" hreflang=\"lt\" rel=\"alternate\"/>\n",
            "<link href=\"/hu/search/educational-incentives\" hreflang=\"hu\" rel=\"alternate\"/>\n",
            "<link href=\"/ms/search/educational-incentives\" hreflang=\"ms\" rel=\"alternate\"/>\n",
            "<link href=\"/ml/search/educational-incentives\" hreflang=\"ml\" rel=\"alternate\"/>\n",
            "<link href=\"/nl/search/educational-incentives\" hreflang=\"nl\" rel=\"alternate\"/>\n",
            "<link href=\"/nl-be/search/educational-incentives\" hreflang=\"nl\" rel=\"alternate\"/>\n",
            "<link href=\"/no/search/educational-incentives\" hreflang=\"no\" rel=\"alternate\"/>\n",
            "<link href=\"/pl/search/educational-incentives\" hreflang=\"pl\" rel=\"alternate\"/>\n",
            "<link href=\"/pt/search/educational-incentives\" hreflang=\"pt\" rel=\"alternate\"/>\n",
            "<link href=\"/br/search/educational-incentives\" hreflang=\"pt-br\" rel=\"alternate\"/>\n",
            "<link href=\"/ro/search/educational-incentives\" hreflang=\"ro\" rel=\"alternate\"/>\n",
            "<link href=\"/sl/search/educational-incentives\" hreflang=\"sl\" rel=\"alternate\"/>\n",
            "<link href=\"/sk/search/educational-incentives\" hreflang=\"sk\" rel=\"alternate\"/>\n",
            "<link href=\"/sr/search/educational-incentives\" hreflang=\"sr\" rel=\"alternate\"/>\n",
            "<link href=\"/fi/search/educational-incentives\" hreflang=\"fi\" rel=\"alternate\"/>\n",
            "<link href=\"/sv/search/educational-incentives\" hreflang=\"sv\" rel=\"alternate\"/>\n",
            "<link href=\"/th/search/educational-incentives\" hreflang=\"th\" rel=\"alternate\"/>\n",
            "<link href=\"/vi/search/educational-incentives\" hreflang=\"vi\" rel=\"alternate\"/>\n",
            "<link href=\"/tr/search/educational-incentives\" hreflang=\"tr\" rel=\"alternate\"/>\n",
            "<link href=\"/en-ae/search/educational-incentives\" hreflang=\"en-ae\" rel=\"alternate\"/>\n",
            "<link href=\"/cz/search/educational-incentives\" hreflang=\"cs\" rel=\"alternate\"/>\n",
            "<link href=\"/el/search/educational-incentives\" hreflang=\"el\" rel=\"alternate\"/>\n",
            "<link href=\"/bg/search/educational-incentives\" hreflang=\"bg\" rel=\"alternate\"/>\n",
            "<link href=\"/mk/search/educational-incentives\" hreflang=\"mk\" rel=\"alternate\"/>\n",
            "<link href=\"/ru/search/educational-incentives\" hreflang=\"ru\" rel=\"alternate\"/>\n",
            "<link href=\"/uk/search/educational-incentives\" hreflang=\"uk\" rel=\"alternate\"/>\n",
            "<link href=\"/he/search/educational-incentives\" hreflang=\"he\" rel=\"alternate\"/>\n",
            "<link href=\"/ar/search/educational-incentives\" hreflang=\"ar\" rel=\"alternate\"/>\n",
            "<link href=\"/fa/search/educational-incentives\" hreflang=\"fa\" rel=\"alternate\"/>\n",
            "<link href=\"/mr/search/educational-incentives\" hreflang=\"mr\" rel=\"alternate\"/>\n",
            "<link href=\"/hi/search/educational-incentives\" hreflang=\"hi\" rel=\"alternate\"/>\n",
            "<link href=\"/bn/search/educational-incentives\" hreflang=\"bn\" rel=\"alternate\"/>\n",
            "<link href=\"/ta/search/educational-incentives\" hreflang=\"ta\" rel=\"alternate\"/>\n",
            "<link href=\"/te/search/educational-incentives\" hreflang=\"te\" rel=\"alternate\"/>\n",
            "<link href=\"/kn/search/educational-incentives\" hreflang=\"kn\" rel=\"alternate\"/>\n",
            "<link href=\"/ka/search/educational-incentives\" hreflang=\"ka\" rel=\"alternate\"/>\n",
            "<link href=\"/zh/search/educational-incentives\" hreflang=\"zh\" rel=\"alternate\"/>\n",
            "<link href=\"/zh-tw/search/educational-incentives\" hreflang=\"zh-tw\" rel=\"alternate\"/>\n",
            "<link href=\"/ja/search/educational-incentives\" hreflang=\"ja\" rel=\"alternate\"/>\n",
            "<link href=\"/ko/search/educational-incentives\" hreflang=\"ko\" rel=\"alternate\"/>\n",
            "<link href=\"\" hreflang=\"x-default\" rel=\"alternate\"/>\n",
            "<link href=\"/favicon.ico?v=2\" rel=\"SHORTCUT ICON\" type=\"image/x-icon\"/>\n",
            "<title></title>\n",
            "<script>\n",
            "        window.AppConfig = {\n",
            "            boDomain: \"https://bo.icecat.biz\"\n",
            "        }\n",
            "    </script>\n",
            "</head>\n",
            "<body>\n",
            "<img src=\"https://icecat.biz/setCookies.php?cookies=WW|en&amp;prefix=&amp;type=ULocation\" style=\"display: none\"/><noscript>\n",
            "<iframe height=\"0\" sandbox=\"allow-same-origin allow-popups allow-scripts allow-presentation allow-modals allow-orientation-lock allow-popups-to-escape-sandbox allow-top-navigation\" src=\"https://www.googletagmanager.com/ns.html?id=GTM-5VX368V\" style=\"display:none;visibility:hidden\" width=\"0\">\n",
            "</iframe>\n",
            "</noscript><div id=\"wrapper\">\n",
            "<input id=\"jsonData1\" type=\"hidden\"/>\n",
            "<div id=\"ReactContainer\"></div>\n",
            "</div>\n",
            "<script src=\"/dist/app.js?20211019T141411\"></script></body>\n",
            "</html>\n",
            "\n"
          ]
        }
      ]
    },
    {
      "cell_type": "code",
      "metadata": {
        "colab": {
          "base_uri": "https://localhost:8080/"
        },
        "id": "1pJNzClgZhs3",
        "outputId": "f77d88af-d73e-4b56-e2e4-8389412ac06c"
      },
      "source": [
        "#product_name\n",
        "products = soup.find_all(\"div\")\n",
        "print(products)"
      ],
      "execution_count": 33,
      "outputs": [
        {
          "output_type": "stream",
          "name": "stdout",
          "text": [
            "[<div id=\"wrapper\">\n",
            "<input id=\"jsonData1\" type=\"hidden\"/>\n",
            "<div id=\"ReactContainer\"></div>\n",
            "</div>, <div id=\"ReactContainer\"></div>]\n"
          ]
        }
      ]
    }
  ]
}